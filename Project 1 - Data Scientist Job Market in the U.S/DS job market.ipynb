{
 "cells": [
  {
   "cell_type": "markdown",
   "metadata": {},
   "source": [
    "### <span style=\"color:white\">Welcome</span>\n",
    "\n",
    "##### Intro\n",
    "This Jupiter notebook will present my workflow of analyzing and visualizing a dataset from Kaggle.\n",
    "\n",
    "##### Dataset\n",
    "The data in this set had been scrapped from an employment website named \"indeed\" and it's related to the data positions domain\n",
    "\n",
    "you can view the source in this link: https://www.kaggle.com/sl6149/data-scientist-job-market-in-the-us\n",
    "\n",
    "##### Goals\n",
    "1. Classifying the raw data to distinct job titles based on NLP methods.\n",
    "2. Visualization of the distribution of jobs by geographical location.\n",
    "3. Discover the most demanded skills on the market."
   ]
  },
  {
   "cell_type": "code",
   "execution_count": 1,
   "metadata": {},
   "outputs": [],
   "source": [
    "import pandas as pd\n",
    "import numpy as np\n",
    "from pandas_profiling import ProfileReport\n",
    "import seaborn as sns\n",
    "import matplotlib.pyplot as plt\n",
    "%matplotlib inline\n",
    "\n",
    "import re \n",
    "import nltk\n",
    "#nltk.download() #download nltk data corpora"
   ]
  },
  {
   "cell_type": "code",
   "execution_count": 2,
   "metadata": {},
   "outputs": [
    {
     "name": "stdout",
     "output_type": "stream",
     "text": [
      "Index(['position', 'company', 'description', 'reviews', 'location'], dtype='object')\n",
      "<class 'pandas.core.frame.DataFrame'>\n",
      "RangeIndex: 6953 entries, 0 to 6952\n",
      "Data columns (total 5 columns):\n",
      " #   Column       Non-Null Count  Dtype  \n",
      "---  ------       --------------  -----  \n",
      " 0   position     6953 non-null   object \n",
      " 1   company      6953 non-null   object \n",
      " 2   description  6953 non-null   object \n",
      " 3   reviews      5326 non-null   float64\n",
      " 4   location     6953 non-null   object \n",
      "dtypes: float64(1), object(4)\n",
      "memory usage: 271.7+ KB\n",
      "None\n"
     ]
    }
   ],
   "source": [
    "df = pd.read_csv(\"original_data.csv\", encoding='utf-8')\n",
    "print(df.columns)\n",
    "print(df.info()) "
   ]
  },
  {
   "cell_type": "code",
   "execution_count": 3,
   "metadata": {},
   "outputs": [
    {
     "data": {
      "text/html": [
       "<div>\n",
       "<style scoped>\n",
       "    .dataframe tbody tr th:only-of-type {\n",
       "        vertical-align: middle;\n",
       "    }\n",
       "\n",
       "    .dataframe tbody tr th {\n",
       "        vertical-align: top;\n",
       "    }\n",
       "\n",
       "    .dataframe thead th {\n",
       "        text-align: right;\n",
       "    }\n",
       "</style>\n",
       "<table border=\"1\" class=\"dataframe\">\n",
       "  <thead>\n",
       "    <tr style=\"text-align: right;\">\n",
       "      <th></th>\n",
       "      <th>position</th>\n",
       "      <th>company</th>\n",
       "      <th>description</th>\n",
       "      <th>reviews</th>\n",
       "      <th>location</th>\n",
       "    </tr>\n",
       "  </thead>\n",
       "  <tbody>\n",
       "    <tr>\n",
       "      <th>0</th>\n",
       "      <td>Development Director</td>\n",
       "      <td>ALS TDI</td>\n",
       "      <td>Development Director\\nALS Therapy Development ...</td>\n",
       "      <td>NaN</td>\n",
       "      <td>Atlanta, GA 30301</td>\n",
       "    </tr>\n",
       "    <tr>\n",
       "      <th>1</th>\n",
       "      <td>An Ostentatiously-Excitable Principal Research...</td>\n",
       "      <td>The Hexagon Lavish</td>\n",
       "      <td>Job Description\\n\\n\"The road that leads to acc...</td>\n",
       "      <td>NaN</td>\n",
       "      <td>Atlanta, GA</td>\n",
       "    </tr>\n",
       "    <tr>\n",
       "      <th>2</th>\n",
       "      <td>Data Scientist</td>\n",
       "      <td>Xpert Staffing</td>\n",
       "      <td>Growing company located in the Atlanta, GA are...</td>\n",
       "      <td>NaN</td>\n",
       "      <td>Atlanta, GA</td>\n",
       "    </tr>\n",
       "    <tr>\n",
       "      <th>3</th>\n",
       "      <td>Data Analyst</td>\n",
       "      <td>Operation HOPE</td>\n",
       "      <td>DEPARTMENT: Program OperationsPOSITION LOCATIO...</td>\n",
       "      <td>44.0</td>\n",
       "      <td>Atlanta, GA 30303</td>\n",
       "    </tr>\n",
       "    <tr>\n",
       "      <th>4</th>\n",
       "      <td>Assistant Professor -TT - Signal Processing &amp; ...</td>\n",
       "      <td>Emory University</td>\n",
       "      <td>DESCRIPTION\\nThe Emory University Department o...</td>\n",
       "      <td>550.0</td>\n",
       "      <td>Atlanta, GA</td>\n",
       "    </tr>\n",
       "  </tbody>\n",
       "</table>\n",
       "</div>"
      ],
      "text/plain": [
       "                                            position             company  \\\n",
       "0                               Development Director             ALS TDI   \n",
       "1  An Ostentatiously-Excitable Principal Research...  The Hexagon Lavish   \n",
       "2                                     Data Scientist      Xpert Staffing   \n",
       "3                                       Data Analyst      Operation HOPE   \n",
       "4  Assistant Professor -TT - Signal Processing & ...    Emory University   \n",
       "\n",
       "                                         description  reviews  \\\n",
       "0  Development Director\\nALS Therapy Development ...      NaN   \n",
       "1  Job Description\\n\\n\"The road that leads to acc...      NaN   \n",
       "2  Growing company located in the Atlanta, GA are...      NaN   \n",
       "3  DEPARTMENT: Program OperationsPOSITION LOCATIO...     44.0   \n",
       "4  DESCRIPTION\\nThe Emory University Department o...    550.0   \n",
       "\n",
       "             location  \n",
       "0  Atlanta, GA 30301   \n",
       "1         Atlanta, GA  \n",
       "2         Atlanta, GA  \n",
       "3  Atlanta, GA 30303   \n",
       "4         Atlanta, GA  "
      ]
     },
     "execution_count": 3,
     "metadata": {},
     "output_type": "execute_result"
    }
   ],
   "source": [
    "df.head()"
   ]
  },
  {
   "cell_type": "markdown",
   "metadata": {},
   "source": [
    "### <span style=\"color:red\">data cleaning</span>\n",
    "* Removing blank rows\n",
    "* Break the location to: city, state, zip code\n",
    "* Convert the text to lowercase letters and remove the empty lines  \n"
   ]
  },
  {
   "cell_type": "markdown",
   "metadata": {},
   "source": [
    "##### dealing with NULL VALUES"
   ]
  },
  {
   "cell_type": "code",
   "execution_count": 4,
   "metadata": {},
   "outputs": [],
   "source": [
    "df.dropna(axis=0, how='all', inplace=True)   # Remove blank rows\n",
    "df.reviews.fillna(value=0 , inplace=True)    # Change NULL reviews to 0 reviews"
   ]
  },
  {
   "cell_type": "markdown",
   "metadata": {},
   "source": [
    "##### dealing with state and city names"
   ]
  },
  {
   "cell_type": "code",
   "execution_count": 5,
   "metadata": {},
   "outputs": [
    {
     "data": {
      "text/html": [
       "<div>\n",
       "<style scoped>\n",
       "    .dataframe tbody tr th:only-of-type {\n",
       "        vertical-align: middle;\n",
       "    }\n",
       "\n",
       "    .dataframe tbody tr th {\n",
       "        vertical-align: top;\n",
       "    }\n",
       "\n",
       "    .dataframe thead th {\n",
       "        text-align: right;\n",
       "    }\n",
       "</style>\n",
       "<table border=\"1\" class=\"dataframe\">\n",
       "  <thead>\n",
       "    <tr style=\"text-align: right;\">\n",
       "      <th></th>\n",
       "      <th>position</th>\n",
       "      <th>company</th>\n",
       "      <th>description</th>\n",
       "      <th>reviews</th>\n",
       "      <th>city</th>\n",
       "      <th>state</th>\n",
       "      <th>zip_code</th>\n",
       "    </tr>\n",
       "  </thead>\n",
       "  <tbody>\n",
       "    <tr>\n",
       "      <th>0</th>\n",
       "      <td>Development Director</td>\n",
       "      <td>ALS TDI</td>\n",
       "      <td>Development Director\\nALS Therapy Development ...</td>\n",
       "      <td>0.0</td>\n",
       "      <td>Atlanta</td>\n",
       "      <td>GA</td>\n",
       "      <td>30301</td>\n",
       "    </tr>\n",
       "    <tr>\n",
       "      <th>1</th>\n",
       "      <td>An Ostentatiously-Excitable Principal Research...</td>\n",
       "      <td>The Hexagon Lavish</td>\n",
       "      <td>Job Description\\n\\n\"The road that leads to acc...</td>\n",
       "      <td>0.0</td>\n",
       "      <td>Atlanta</td>\n",
       "      <td>GA</td>\n",
       "      <td></td>\n",
       "    </tr>\n",
       "    <tr>\n",
       "      <th>2</th>\n",
       "      <td>Data Scientist</td>\n",
       "      <td>Xpert Staffing</td>\n",
       "      <td>Growing company located in the Atlanta, GA are...</td>\n",
       "      <td>0.0</td>\n",
       "      <td>Atlanta</td>\n",
       "      <td>GA</td>\n",
       "      <td></td>\n",
       "    </tr>\n",
       "    <tr>\n",
       "      <th>3</th>\n",
       "      <td>Data Analyst</td>\n",
       "      <td>Operation HOPE</td>\n",
       "      <td>DEPARTMENT: Program OperationsPOSITION LOCATIO...</td>\n",
       "      <td>44.0</td>\n",
       "      <td>Atlanta</td>\n",
       "      <td>GA</td>\n",
       "      <td>30303</td>\n",
       "    </tr>\n",
       "    <tr>\n",
       "      <th>4</th>\n",
       "      <td>Assistant Professor -TT - Signal Processing &amp; ...</td>\n",
       "      <td>Emory University</td>\n",
       "      <td>DESCRIPTION\\nThe Emory University Department o...</td>\n",
       "      <td>550.0</td>\n",
       "      <td>Atlanta</td>\n",
       "      <td>GA</td>\n",
       "      <td></td>\n",
       "    </tr>\n",
       "  </tbody>\n",
       "</table>\n",
       "</div>"
      ],
      "text/plain": [
       "                                            position             company  \\\n",
       "0                               Development Director             ALS TDI   \n",
       "1  An Ostentatiously-Excitable Principal Research...  The Hexagon Lavish   \n",
       "2                                     Data Scientist      Xpert Staffing   \n",
       "3                                       Data Analyst      Operation HOPE   \n",
       "4  Assistant Professor -TT - Signal Processing & ...    Emory University   \n",
       "\n",
       "                                         description  reviews     city state  \\\n",
       "0  Development Director\\nALS Therapy Development ...      0.0  Atlanta    GA   \n",
       "1  Job Description\\n\\n\"The road that leads to acc...      0.0  Atlanta    GA   \n",
       "2  Growing company located in the Atlanta, GA are...      0.0  Atlanta    GA   \n",
       "3  DEPARTMENT: Program OperationsPOSITION LOCATIO...     44.0  Atlanta    GA   \n",
       "4  DESCRIPTION\\nThe Emory University Department o...    550.0  Atlanta    GA   \n",
       "\n",
       "  zip_code  \n",
       "0    30301  \n",
       "1           \n",
       "2           \n",
       "3    30303  \n",
       "4           "
      ]
     },
     "execution_count": 5,
     "metadata": {},
     "output_type": "execute_result"
    }
   ],
   "source": [
    "city = []\n",
    "state = []\n",
    "zip_code = []\n",
    "\n",
    "for i, location in enumerate(df.location):\n",
    "    city.append(location.split(',')[0])\n",
    "    state.append(location.split(',')[1][1:3])\n",
    "    zip_code.append(location.split(',')[1][4:].rstrip())\n",
    "\n",
    "City = pd.Series(city)\n",
    "State = pd.Series(state)\n",
    "Zip_code = pd.Series(zip_code)\n",
    "\n",
    "df = df.assign(city=City.values, state=State.values , zip_code=Zip_code .values)\n",
    "df.drop('location', inplace=True, axis=1)\n",
    "df.head()"
   ]
  },
  {
   "cell_type": "markdown",
   "metadata": {},
   "source": [
    "##### convert to lowercase letters"
   ]
  },
  {
   "cell_type": "code",
   "execution_count": 6,
   "metadata": {},
   "outputs": [],
   "source": [
    "def first_cleaning(text):\n",
    "    text = str(text)\n",
    "    text = text.replace(\"\\n\",\" \")\n",
    "    return text.lower() "
   ]
  },
  {
   "cell_type": "code",
   "execution_count": 7,
   "metadata": {},
   "outputs": [],
   "source": [
    "df.description = df.description.apply(first_cleaning)\n",
    "df.position\t= df.position.apply(first_cleaning)\n",
    "df.company = df.company.apply(first_cleaning)"
   ]
  },
  {
   "cell_type": "markdown",
   "metadata": {},
   "source": [
    "### <span style=\"color:red\">Formatting with Regular Expressions</span>\n",
    "Using Regex I will locate the email and URL hiding in the description text.\n",
    "\n",
    "I will create new empty lists and insert to them the email and URL.\n",
    "\n",
    "For more info on Regex using python, you can view this link: https://docs.python.org/3/library/re.html "
   ]
  },
  {
   "cell_type": "code",
   "execution_count": 8,
   "metadata": {},
   "outputs": [],
   "source": [
    "website_columns = [None for x in range(len(df))]\n",
    "email_columns = [None for x in range(len(df))]"
   ]
  },
  {
   "cell_type": "code",
   "execution_count": 9,
   "metadata": {},
   "outputs": [],
   "source": [
    "for i in range(len(df)):\n",
    "    # position_text = str(df.loc[i, \"position\"])\n",
    "    description_text = str(df.loc[i, \"description\"])\n",
    "\n",
    "    # data_professional = re.compile(r'[\\w]+[\\s]data[\\s][\\w]+')\n",
    "    website_pattern = re.compile(r'(https?):\\/\\/([\\w_-]+(?:(?:\\.[\\w_-]+)+)[\\w.,@?^=%&:\\/~+#-]*[\\w@?^=%&~+#-])')\n",
    "    email_pattern = re.compile(r'[\\w\\.-]+@\\w+.[\\w.]+[^\\.\\s]')\n",
    "    \n",
    "    website_matches = website_pattern.findall(description_text)\n",
    "    email_matches = email_pattern.findall(description_text)\n",
    "    re.sub(website_pattern, '', description_text)\n",
    "    re.sub(email_pattern, '', description_text)\n",
    "\n",
    "    for match in website_matches:\n",
    "        website_columns[i] = match[1]   \n",
    "    \n",
    "    for match in email_matches:\n",
    "        email_columns[i] = match\n",
    "\n",
    "df[\"website\"] = pd.Series(website_columns)\n",
    "df[\"email\"] = pd.Series(email_columns)"
   ]
  },
  {
   "cell_type": "code",
   "execution_count": 10,
   "metadata": {},
   "outputs": [],
   "source": [
    "from string import punctuation #remove all: !\"#$%&'()*+,-./:;<=>?@[\\]^_`{|}~ from text\n",
    "    \n",
    "def second_cleaning(text):\n",
    "    '''remove punctuation and remove words containing numbers.'''\n",
    "    text = re.sub('[%s]' % re.escape(punctuation), ' ', text)\n",
    "    text = re.sub('[-\"&\\(\\)\\\\\\/]', ' ', text)\n",
    "    text = re.sub('[—:]', ' ', text)\n",
    "    text = re.sub('[‘’“”…]', ' ', text)\n",
    "    text = re.sub('[.]', ' ', text)\n",
    "    return text\n",
    "df.description = df.description.apply(second_cleaning)\n",
    "df.position = df.position.apply(second_cleaning)"
   ]
  },
  {
   "cell_type": "markdown",
   "metadata": {},
   "source": [
    "##### Saving the clean data frame to csv"
   ]
  },
  {
   "cell_type": "code",
   "execution_count": 11,
   "metadata": {},
   "outputs": [],
   "source": [
    "df.to_csv('cleaned_data.csv',index=False, header=df.columns)"
   ]
  },
  {
   "cell_type": "markdown",
   "metadata": {},
   "source": [
    "###  <span style=\"color:red\">Language Processing</span>\n",
    "* Split the text into single words - tokenizing\n",
    "* Remove stop words they don't give us new knowledge\n",
    "* I haven't performed lemmatization and steaming because I didn't want to change the concept definition.  "
   ]
  },
  {
   "cell_type": "code",
   "execution_count": 12,
   "metadata": {},
   "outputs": [],
   "source": [
    "from nltk.corpus import stopwords #remove all: anybody, anyhow, anyone, anyways, anywhere, are ...\n",
    "from nltk.tokenize import word_tokenize "
   ]
  },
  {
   "cell_type": "markdown",
   "metadata": {},
   "source": [
    "##### tokenizing and Removing Stopwords"
   ]
  },
  {
   "cell_type": "code",
   "execution_count": 13,
   "metadata": {},
   "outputs": [
    {
     "name": "stdout",
     "output_type": "stream",
     "text": [
      "number of word before removing the stopwords: 603\n",
      "number of word after removing the stopwords: 400\n",
      "example of text after tokenizing:  ['job', 'description', 'road', 'leads', 'accomplishment', 'narrow', 'desmond', 'ostentatious', 'strong', 'adjective']\n"
     ]
    }
   ],
   "source": [
    "#tokenizing example\n",
    "first_desc = df.loc[1, \"description\"]\n",
    "stop_words = set(stopwords.words(\"english\"))\n",
    "words = word_tokenize(first_desc)\n",
    "print(\"number of word before removing the stopwords: \"+str(len(words)))\n",
    "filtered_sentence = [W for W in words if W not in stop_words]\n",
    "print(\"number of word after removing the stopwords: \"+str(len(filtered_sentence)))\n",
    "print(\"example of text after tokenizing: \", filtered_sentence[0:10])"
   ]
  },
  {
   "cell_type": "code",
   "execution_count": 14,
   "metadata": {},
   "outputs": [],
   "source": [
    "def remove_stop_word(text):\n",
    "    return [W for W in text if W not in stop_words]"
   ]
  },
  {
   "cell_type": "code",
   "execution_count": 15,
   "metadata": {},
   "outputs": [],
   "source": [
    "df = df.drop([448, 2442], axis=0)                                              #remove row with problem with tokenizing \n",
    "df[\"description\"] = df[\"description\"].apply(nltk.word_tokenize)                #tokenizing\n",
    "df[\"description\"] = df[\"description\"].apply(remove_stop_word)                  #remove stop word\n",
    "df[\"position\"] = df[\"position\"].apply(nltk.word_tokenize)                      #tokenizing\n",
    "df[\"position\"] = df[\"position\"].apply(remove_stop_word)                        #remove stop word"
   ]
  },
  {
   "cell_type": "markdown",
   "metadata": {},
   "source": [
    "###  <span style=\"color:red\">Classifying</span>\n",
    "* extract important key word and classifying by position title and skills\n"
   ]
  },
  {
   "cell_type": "code",
   "execution_count": 16,
   "metadata": {},
   "outputs": [],
   "source": [
    "position_list = ['development director','research assistant','data scientist','data analyst',\n",
    "                 'assistant professor','product specialist','geologist',\n",
    "                 'structural engineer','electrical engineer','epidemiologist','finance analyst',\n",
    "                 'full stack developer','health scientist','microbiologist','data engineer','bi analyst', \n",
    "                 'ecologist','malware analyst','biomedical engineer','software engineer','devops engineer','research, technician',\n",
    "                 'cyber security systems engineer','web developer','front end engineer','digital marketing','bookkeeper',\n",
    "                 'statistical analyst','ml scientist','mobile, developer', 'deep learning scientist', 'machine learning engineer']\n",
    "\n",
    "\n",
    "tools_list = ['python',' sql ','java','scala','excel','aws ','hadoop','spark',\n",
    "             'linux','tableau','linux',' sas ','hive','oracle','perl', ' etl ',\n",
    "             'mysql','matlab','html','tensorflow','spss','mongodb', ' r ']\n",
    "\n",
    "skills_list = ['machine learning','data analysis','data visualization',\n",
    "            'modeling','statistical analysis','research','deep learning',\n",
    "            'optimization','decision tree','logistic','random forest',\n",
    "            'ab testing','web scraping','neural network','interpersonal skills',\n",
    "            'communication skills','artificial intelligence']\n",
    "\n",
    "degree_list = ['master','phd ','bachelor','high school','No degree requirement']\n",
    "\n",
    "major_list = ['computer science','data science','statistics','quantitative',\n",
    "            'mathematics','economics','liberal arts','science','business',\n",
    "            'engineer','engineering','psychology','biology','medicine',\n",
    "            'marketing','business analysis','chemical engineering','chemistry',\n",
    "            'public health','public relationship']"
   ]
  },
  {
   "cell_type": "code",
   "execution_count": 17,
   "metadata": {},
   "outputs": [
    {
     "name": "stdout",
     "output_type": "stream",
     "text": [
      "20952 tools match has fund\n",
      "17187 skills match has fund\n",
      "5991 degree title match has fund\n",
      "29420 major match has fund\n",
      "2215 position categorys match has fund\n"
     ]
    }
   ],
   "source": [
    "def classifying(column,list, descripsion):  \n",
    "    \"\"\"      \"\"\"\n",
    "    found = 0\n",
    "    new_list = []\n",
    "    for text in column:\n",
    "        temp_list = []\n",
    "        for values in list:\n",
    "            if values in \" \".join(text) and values not in temp_list:\n",
    "                temp_list.append(values.strip())\n",
    "                found+=1\n",
    "        new_list.append(\", \".join(temp_list))\n",
    "    print(found, descripsion, \"match has fund\")\n",
    "    return((new_list))\n",
    "\n",
    "df[\"tools\"] = classifying(df[\"description\"],tools_list, \"tools\")\n",
    "df[\"skills\"] = classifying(df[\"description\"],skills_list, \"skills\")\n",
    "df[\"degree\"] = classifying(df[\"description\"],degree_list, \"degree title\")\n",
    "df[\"major\"] = classifying(df[\"description\"],major_list, \"major\")\n",
    "df[\"position_category\"] = classifying(df[\"position\"],position_list, \"position categorys\")"
   ]
  },
  {
   "cell_type": "code",
   "execution_count": 18,
   "metadata": {},
   "outputs": [],
   "source": [
    "# reordering the dataframe\n",
    "df = df[['position','position_category', 'company', 'description', 'reviews', 'city', 'state',\n",
    "       'zip_code', 'tools', 'skills', 'degree', 'major','website', 'email']]\n",
    "df.position\t= df.position.apply(\" \".join)\n",
    "df.loc[df.company == \"fred hutchinson cancer research center\",\"company\"] = \"fred hutchinson\" # too long company name walmart ecommerce\n",
    "df.loc[df.company == \"walmart ecommerce\",\"company\"] = \"walmart\"  "
   ]
  },
  {
   "cell_type": "code",
   "execution_count": 19,
   "metadata": {},
   "outputs": [
    {
     "data": {
      "text/html": [
       "<div>\n",
       "<style scoped>\n",
       "    .dataframe tbody tr th:only-of-type {\n",
       "        vertical-align: middle;\n",
       "    }\n",
       "\n",
       "    .dataframe tbody tr th {\n",
       "        vertical-align: top;\n",
       "    }\n",
       "\n",
       "    .dataframe thead th {\n",
       "        text-align: right;\n",
       "    }\n",
       "</style>\n",
       "<table border=\"1\" class=\"dataframe\">\n",
       "  <thead>\n",
       "    <tr style=\"text-align: right;\">\n",
       "      <th></th>\n",
       "      <th>position</th>\n",
       "      <th>position_category</th>\n",
       "      <th>company</th>\n",
       "      <th>description</th>\n",
       "      <th>reviews</th>\n",
       "      <th>city</th>\n",
       "      <th>state</th>\n",
       "      <th>zip_code</th>\n",
       "      <th>tools</th>\n",
       "      <th>skills</th>\n",
       "      <th>degree</th>\n",
       "      <th>major</th>\n",
       "      <th>website</th>\n",
       "      <th>email</th>\n",
       "    </tr>\n",
       "  </thead>\n",
       "  <tbody>\n",
       "    <tr>\n",
       "      <th>0</th>\n",
       "      <td>development director</td>\n",
       "      <td>development director</td>\n",
       "      <td>als tdi</td>\n",
       "      <td>[development, director, als, therapy, developm...</td>\n",
       "      <td>0.0</td>\n",
       "      <td>Atlanta</td>\n",
       "      <td>GA</td>\n",
       "      <td>30301</td>\n",
       "      <td>excel</td>\n",
       "      <td>research</td>\n",
       "      <td>bachelor</td>\n",
       "      <td>business</td>\n",
       "      <td>als.applicantpro.com</td>\n",
       "      <td>None</td>\n",
       "    </tr>\n",
       "    <tr>\n",
       "      <th>1</th>\n",
       "      <td>ostentatiously excitable principal research as...</td>\n",
       "      <td>research assistant</td>\n",
       "      <td>the hexagon lavish</td>\n",
       "      <td>[job, description, road, leads, accomplishment...</td>\n",
       "      <td>0.0</td>\n",
       "      <td>Atlanta</td>\n",
       "      <td>GA</td>\n",
       "      <td></td>\n",
       "      <td>scala, excel, r</td>\n",
       "      <td>modeling, statistical analysis, research, logi...</td>\n",
       "      <td>master</td>\n",
       "      <td>computer science, statistics, quantitative, ma...</td>\n",
       "      <td>None</td>\n",
       "      <td>None</td>\n",
       "    </tr>\n",
       "    <tr>\n",
       "      <th>2</th>\n",
       "      <td>data scientist</td>\n",
       "      <td>data scientist</td>\n",
       "      <td>xpert staffing</td>\n",
       "      <td>[growing, company, located, atlanta, ga, area,...</td>\n",
       "      <td>0.0</td>\n",
       "      <td>Atlanta</td>\n",
       "      <td>GA</td>\n",
       "      <td></td>\n",
       "      <td>python, sql, java, hadoop, tableau, oracle, pe...</td>\n",
       "      <td>machine learning, data analysis, modeling, res...</td>\n",
       "      <td>master</td>\n",
       "      <td>computer science, data science, economics, sci...</td>\n",
       "      <td>None</td>\n",
       "      <td>None</td>\n",
       "    </tr>\n",
       "    <tr>\n",
       "      <th>3</th>\n",
       "      <td>data analyst</td>\n",
       "      <td>data analyst</td>\n",
       "      <td>operation hope</td>\n",
       "      <td>[department, program, operationsposition, loca...</td>\n",
       "      <td>44.0</td>\n",
       "      <td>Atlanta</td>\n",
       "      <td>GA</td>\n",
       "      <td>30303</td>\n",
       "      <td>python, sql, tableau, sas, r</td>\n",
       "      <td>data visualization, modeling, optimization</td>\n",
       "      <td>bachelor</td>\n",
       "      <td></td>\n",
       "      <td>None</td>\n",
       "      <td>None</td>\n",
       "    </tr>\n",
       "    <tr>\n",
       "      <th>4</th>\n",
       "      <td>assistant professor tt signal processing machi...</td>\n",
       "      <td>assistant professor</td>\n",
       "      <td>emory university</td>\n",
       "      <td>[description, emory, university, department, b...</td>\n",
       "      <td>550.0</td>\n",
       "      <td>Atlanta</td>\n",
       "      <td>GA</td>\n",
       "      <td></td>\n",
       "      <td></td>\n",
       "      <td>machine learning, research</td>\n",
       "      <td>phd</td>\n",
       "      <td>computer science, data science, science, engin...</td>\n",
       "      <td>www.atlantactsi.org/areas/bip</td>\n",
       "      <td>None</td>\n",
       "    </tr>\n",
       "  </tbody>\n",
       "</table>\n",
       "</div>"
      ],
      "text/plain": [
       "                                            position     position_category  \\\n",
       "0                               development director  development director   \n",
       "1  ostentatiously excitable principal research as...    research assistant   \n",
       "2                                     data scientist        data scientist   \n",
       "3                                       data analyst          data analyst   \n",
       "4  assistant professor tt signal processing machi...   assistant professor   \n",
       "\n",
       "              company                                        description  \\\n",
       "0             als tdi  [development, director, als, therapy, developm...   \n",
       "1  the hexagon lavish  [job, description, road, leads, accomplishment...   \n",
       "2      xpert staffing  [growing, company, located, atlanta, ga, area,...   \n",
       "3      operation hope  [department, program, operationsposition, loca...   \n",
       "4    emory university  [description, emory, university, department, b...   \n",
       "\n",
       "   reviews     city state zip_code  \\\n",
       "0      0.0  Atlanta    GA    30301   \n",
       "1      0.0  Atlanta    GA            \n",
       "2      0.0  Atlanta    GA            \n",
       "3     44.0  Atlanta    GA    30303   \n",
       "4    550.0  Atlanta    GA            \n",
       "\n",
       "                                               tools  \\\n",
       "0                                              excel   \n",
       "1                                    scala, excel, r   \n",
       "2  python, sql, java, hadoop, tableau, oracle, pe...   \n",
       "3                       python, sql, tableau, sas, r   \n",
       "4                                                      \n",
       "\n",
       "                                              skills    degree  \\\n",
       "0                                           research  bachelor   \n",
       "1  modeling, statistical analysis, research, logi...    master   \n",
       "2  machine learning, data analysis, modeling, res...    master   \n",
       "3         data visualization, modeling, optimization  bachelor   \n",
       "4                         machine learning, research       phd   \n",
       "\n",
       "                                               major  \\\n",
       "0                                           business   \n",
       "1  computer science, statistics, quantitative, ma...   \n",
       "2  computer science, data science, economics, sci...   \n",
       "3                                                      \n",
       "4  computer science, data science, science, engin...   \n",
       "\n",
       "                         website email  \n",
       "0           als.applicantpro.com  None  \n",
       "1                           None  None  \n",
       "2                           None  None  \n",
       "3                           None  None  \n",
       "4  www.atlantactsi.org/areas/bip  None  "
      ]
     },
     "execution_count": 19,
     "metadata": {},
     "output_type": "execute_result"
    }
   ],
   "source": [
    "df.head()"
   ]
  },
  {
   "cell_type": "markdown",
   "metadata": {},
   "source": [
    "###  <span style=\"color:red\">visualization</span>"
   ]
  },
  {
   "cell_type": "code",
   "execution_count": 20,
   "metadata": {},
   "outputs": [],
   "source": [
    "import plotly.express as px"
   ]
  },
  {
   "cell_type": "markdown",
   "metadata": {},
   "source": [
    "### number of jobs by location"
   ]
  },
  {
   "cell_type": "code",
   "execution_count": 21,
   "metadata": {},
   "outputs": [
    {
     "name": "stdout",
     "output_type": "stream",
     "text": [
      "Index(['CA', 'MA', 'WA', 'NY', 'IL', 'DC', 'GA', 'CO', 'TX', 'NJ'], dtype='object')\n",
      "[2152 1322  935  926  471  340  269  251  217   68]\n"
     ]
    }
   ],
   "source": [
    "job_count_by_state = df.state.value_counts().sort_values(ascending=False) #Simpler to implementation \n",
    "print(job_count_by_state.index)\n",
    "print(job_count_by_state.values)"
   ]
  },
  {
   "cell_type": "code",
   "execution_count": 22,
   "metadata": {},
   "outputs": [
    {
     "data": {
      "image/png": "[encoded data removed]",
      "text/plain": [
       "<Figure size 1296x360 with 1 Axes>"
      ]
     },
     "metadata": {
      "needs_background": "light"
     },
     "output_type": "display_data"
    }
   ],
   "source": [
    "plt.figure(figsize=(18,5))\n",
    "plt.title('Overall Participation by Country')\n",
    "plt.xlabel('Total number of Data Science position')\n",
    "plt.ylabel('location', )\n",
    "sns.barplot(x=job_count_by_state.index, y=job_count_by_state, palette='Set2');"
   ]
  },
  {
   "cell_type": "markdown",
   "metadata": {},
   "source": [
    "##### Choropleth Maps\n"
   ]
  },
  {
   "cell_type": "code",
   "execution_count": 23,
   "metadata": {},
   "outputs": [],
   "source": [
    "job_count_df = pd.DataFrame(data=None, index=None, columns=['state','job count'])\n",
    "job_count_df['state'] = job_count_by_state.index\n",
    "job_count_df['job count'] = job_count_by_state.values"
   ]
  },
  {
   "cell_type": "code",
   "execution_count": 24,
   "metadata": {},
   "outputs": [
    {
     "data": {
      "application/vnd.plotly.v1+json": {
       "config": {
        "plotlyServerURL": "https://plot.ly"
       },
       "data": [
        {
         "coloraxis": "coloraxis",
         "geo": "geo",
         "hovertemplate": "state=%{location}<br>total number of positions=%{z}<extra></extra>",
         "locationmode": "USA-states",
         "locations": [
          "CA",
          "MA",
          "WA",
          "NY",
          "IL",
          "DC",
          "GA",
          "CO",
          "TX",
          "NJ"
         ],
         "name": "",
         "type": "choropleth",
         "z": [
          2152,
          1322,
          935,
          926,
          471,
          340,
          269,
          251,
          217,
          68
         ]
        }
       ],
       "layout": {
        "coloraxis": {
         "colorbar": {
          "title": {
           "text": "total number of positions"
          }
         },
         "colorscale": [
          [
           0,
           "rgb(0,0,255)"
          ],
          [
           1,
           "rgb(255,0,0)"
          ]
         ]
        },
        "geo": {
         "center": {},
         "domain": {
          "x": [
           0,
           1
          ],
          "y": [
           0,
           1
          ]
         },
         "scope": "usa"
        },
        "height": 400,
        "legend": {
         "tracegroupgap": 0
        },
        "template": {
         "data": {
          "bar": [
           {
            "error_x": {
             "color": "#2a3f5f"
            },
            "error_y": {
             "color": "#2a3f5f"
            },
            "marker": {
             "line": {
              "color": "#E5ECF6",
              "width": 0.5
             },
             "pattern": {
              "fillmode": "overlay",
              "size": 10,
              "solidity": 0.2
             }
            },
            "type": "bar"
           }
          ],
          "barpolar": [
           {
            "marker": {
             "line": {
              "color": "#E5ECF6",
              "width": 0.5
             },
             "pattern": {
              "fillmode": "overlay",
              "size": 10,
              "solidity": 0.2
             }
            },
            "type": "barpolar"
           }
          ],
          "carpet": [
           {
            "aaxis": {
             "endlinecolor": "#2a3f5f",
             "gridcolor": "white",
             "linecolor": "white",
             "minorgridcolor": "white",
             "startlinecolor": "#2a3f5f"
            },
            "baxis": {
             "endlinecolor": "#2a3f5f",
             "gridcolor": "white",
             "linecolor": "white",
             "minorgridcolor": "white",
             "startlinecolor": "#2a3f5f"
            },
            "type": "carpet"
           }
          ],
          "choropleth": [
           {
            "colorbar": {
             "outlinewidth": 0,
             "ticks": ""
            },
            "type": "choropleth"
           }
          ],
          "contour": [
           {
            "colorbar": {
             "outlinewidth": 0,
             "ticks": ""
            },
            "colorscale": [
             [
              0,
              "#0d0887"
             ],
             [
              0.1111111111111111,
              "#46039f"
             ],
             [
              0.2222222222222222,
              "#7201a8"
             ],
             [
              0.3333333333333333,
              "#9c179e"
             ],
             [
              0.4444444444444444,
              "#bd3786"
             ],
             [
              0.5555555555555556,
              "#d8576b"
             ],
             [
              0.6666666666666666,
              "#ed7953"
             ],
             [
              0.7777777777777778,
              "#fb9f3a"
             ],
             [
              0.8888888888888888,
              "#fdca26"
             ],
             [
              1,
              "#f0f921"
             ]
            ],
            "type": "contour"
           }
          ],
          "contourcarpet": [
           {
            "colorbar": {
             "outlinewidth": 0,
             "ticks": ""
            },
            "type": "contourcarpet"
           }
          ],
          "heatmap": [
           {
            "colorbar": {
             "outlinewidth": 0,
             "ticks": ""
            },
            "colorscale": [
             [
              0,
              "#0d0887"
             ],
             [
              0.1111111111111111,
              "#46039f"
             ],
             [
              0.2222222222222222,
              "#7201a8"
             ],
             [
              0.3333333333333333,
              "#9c179e"
             ],
             [
              0.4444444444444444,
              "#bd3786"
             ],
             [
              0.5555555555555556,
              "#d8576b"
             ],
             [
              0.6666666666666666,
              "#ed7953"
             ],
             [
              0.7777777777777778,
              "#fb9f3a"
             ],
             [
              0.8888888888888888,
              "#fdca26"
             ],
             [
              1,
              "#f0f921"
             ]
            ],
            "type": "heatmap"
           }
          ],
          "heatmapgl": [
           {
            "colorbar": {
             "outlinewidth": 0,
             "ticks": ""
            },
            "colorscale": [
             [
              0,
              "#0d0887"
             ],
             [
              0.1111111111111111,
              "#46039f"
             ],
             [
              0.2222222222222222,
              "#7201a8"
             ],
             [
              0.3333333333333333,
              "#9c179e"
             ],
             [
              0.4444444444444444,
              "#bd3786"
             ],
             [
              0.5555555555555556,
              "#d8576b"
             ],
             [
              0.6666666666666666,
              "#ed7953"
             ],
             [
              0.7777777777777778,
              "#fb9f3a"
             ],
             [
              0.8888888888888888,
              "#fdca26"
             ],
             [
              1,
              "#f0f921"
             ]
            ],
            "type": "heatmapgl"
           }
          ],
          "histogram": [
           {
            "marker": {
             "pattern": {
              "fillmode": "overlay",
              "size": 10,
              "solidity": 0.2
             }
            },
            "type": "histogram"
           }
          ],
          "histogram2d": [
           {
            "colorbar": {
             "outlinewidth": 0,
             "ticks": ""
            },
            "colorscale": [
             [
              0,
              "#0d0887"
             ],
             [
              0.1111111111111111,
              "#46039f"
             ],
             [
              0.2222222222222222,
              "#7201a8"
             ],
             [
              0.3333333333333333,
              "#9c179e"
             ],
             [
              0.4444444444444444,
              "#bd3786"
             ],
             [
              0.5555555555555556,
              "#d8576b"
             ],
             [
              0.6666666666666666,
              "#ed7953"
             ],
             [
              0.7777777777777778,
              "#fb9f3a"
             ],
             [
              0.8888888888888888,
              "#fdca26"
             ],
             [
              1,
              "#f0f921"
             ]
            ],
            "type": "histogram2d"
           }
          ],
          "histogram2dcontour": [
           {
            "colorbar": {
             "outlinewidth": 0,
             "ticks": ""
            },
            "colorscale": [
             [
              0,
              "#0d0887"
             ],
             [
              0.1111111111111111,
              "#46039f"
             ],
             [
              0.2222222222222222,
              "#7201a8"
             ],
             [
              0.3333333333333333,
              "#9c179e"
             ],
             [
              0.4444444444444444,
              "#bd3786"
             ],
             [
              0.5555555555555556,
              "#d8576b"
             ],
             [
              0.6666666666666666,
              "#ed7953"
             ],
             [
              0.7777777777777778,
              "#fb9f3a"
             ],
             [
              0.8888888888888888,
              "#fdca26"
             ],
             [
              1,
              "#f0f921"
             ]
            ],
            "type": "histogram2dcontour"
           }
          ],
          "mesh3d": [
           {
            "colorbar": {
             "outlinewidth": 0,
             "ticks": ""
            },
            "type": "mesh3d"
           }
          ],
          "parcoords": [
           {
            "line": {
             "colorbar": {
              "outlinewidth": 0,
              "ticks": ""
             }
            },
            "type": "parcoords"
           }
          ],
          "pie": [
           {
            "automargin": true,
            "type": "pie"
           }
          ],
          "scatter": [
           {
            "marker": {
             "colorbar": {
              "outlinewidth": 0,
              "ticks": ""
             }
            },
            "type": "scatter"
           }
          ],
          "scatter3d": [
           {
            "line": {
             "colorbar": {
              "outlinewidth": 0,
              "ticks": ""
             }
            },
            "marker": {
             "colorbar": {
              "outlinewidth": 0,
              "ticks": ""
             }
            },
            "type": "scatter3d"
           }
          ],
          "scattercarpet": [
           {
            "marker": {
             "colorbar": {
              "outlinewidth": 0,
              "ticks": ""
             }
            },
            "type": "scattercarpet"
           }
          ],
          "scattergeo": [
           {
            "marker": {
             "colorbar": {
              "outlinewidth": 0,
              "ticks": ""
             }
            },
            "type": "scattergeo"
           }
          ],
          "scattergl": [
           {
            "marker": {
             "colorbar": {
              "outlinewidth": 0,
              "ticks": ""
             }
            },
            "type": "scattergl"
           }
          ],
          "scattermapbox": [
           {
            "marker": {
             "colorbar": {
              "outlinewidth": 0,
              "ticks": ""
             }
            },
            "type": "scattermapbox"
           }
          ],
          "scatterpolar": [
           {
            "marker": {
             "colorbar": {
              "outlinewidth": 0,
              "ticks": ""
             }
            },
            "type": "scatterpolar"
           }
          ],
          "scatterpolargl": [
           {
            "marker": {
             "colorbar": {
              "outlinewidth": 0,
              "ticks": ""
             }
            },
            "type": "scatterpolargl"
           }
          ],
          "scatterternary": [
           {
            "marker": {
             "colorbar": {
              "outlinewidth": 0,
              "ticks": ""
             }
            },
            "type": "scatterternary"
           }
          ],
          "surface": [
           {
            "colorbar": {
             "outlinewidth": 0,
             "ticks": ""
            },
            "colorscale": [
             [
              0,
              "#0d0887"
             ],
             [
              0.1111111111111111,
              "#46039f"
             ],
             [
              0.2222222222222222,
              "#7201a8"
             ],
             [
              0.3333333333333333,
              "#9c179e"
             ],
             [
              0.4444444444444444,
              "#bd3786"
             ],
             [
              0.5555555555555556,
              "#d8576b"
             ],
             [
              0.6666666666666666,
              "#ed7953"
             ],
             [
              0.7777777777777778,
              "#fb9f3a"
             ],
             [
              0.8888888888888888,
              "#fdca26"
             ],
             [
              1,
              "#f0f921"
             ]
            ],
            "type": "surface"
           }
          ],
          "table": [
           {
            "cells": {
             "fill": {
              "color": "#EBF0F8"
             },
             "line": {
              "color": "white"
             }
            },
            "header": {
             "fill": {
              "color": "#C8D4E3"
             },
             "line": {
              "color": "white"
             }
            },
            "type": "table"
           }
          ]
         },
         "layout": {
          "annotationdefaults": {
           "arrowcolor": "#2a3f5f",
           "arrowhead": 0,
           "arrowwidth": 1
          },
          "autotypenumbers": "strict",
          "coloraxis": {
           "colorbar": {
            "outlinewidth": 0,
            "ticks": ""
           }
          },
          "colorscale": {
           "diverging": [
            [
             0,
             "#8e0152"
            ],
            [
             0.1,
             "#c51b7d"
            ],
            [
             0.2,
             "#de77ae"
            ],
            [
             0.3,
             "#f1b6da"
            ],
            [
             0.4,
             "#fde0ef"
            ],
            [
             0.5,
             "#f7f7f7"
            ],
            [
             0.6,
             "#e6f5d0"
            ],
            [
             0.7,
             "#b8e186"
            ],
            [
             0.8,
             "#7fbc41"
            ],
            [
             0.9,
             "#4d9221"
            ],
            [
             1,
             "#276419"
            ]
           ],
           "sequential": [
            [
             0,
             "#0d0887"
            ],
            [
             0.1111111111111111,
             "#46039f"
            ],
            [
             0.2222222222222222,
             "#7201a8"
            ],
            [
             0.3333333333333333,
             "#9c179e"
            ],
            [
             0.4444444444444444,
             "#bd3786"
            ],
            [
             0.5555555555555556,
             "#d8576b"
            ],
            [
             0.6666666666666666,
             "#ed7953"
            ],
            [
             0.7777777777777778,
             "#fb9f3a"
            ],
            [
             0.8888888888888888,
             "#fdca26"
            ],
            [
             1,
             "#f0f921"
            ]
           ],
           "sequentialminus": [
            [
             0,
             "#0d0887"
            ],
            [
             0.1111111111111111,
             "#46039f"
            ],
            [
             0.2222222222222222,
             "#7201a8"
            ],
            [
             0.3333333333333333,
             "#9c179e"
            ],
            [
             0.4444444444444444,
             "#bd3786"
            ],
            [
             0.5555555555555556,
             "#d8576b"
            ],
            [
             0.6666666666666666,
             "#ed7953"
            ],
            [
             0.7777777777777778,
             "#fb9f3a"
            ],
            [
             0.8888888888888888,
             "#fdca26"
            ],
            [
             1,
             "#f0f921"
            ]
           ]
          },
          "colorway": [
           "#636efa",
           "#EF553B",
           "#00cc96",
           "#ab63fa",
           "#FFA15A",
           "#19d3f3",
           "#FF6692",
           "#B6E880",
           "#FF97FF",
           "#FECB52"
          ],
          "font": {
           "color": "#2a3f5f"
          },
          "geo": {
           "bgcolor": "white",
           "lakecolor": "white",
           "landcolor": "#E5ECF6",
           "showlakes": true,
           "showland": true,
           "subunitcolor": "white"
          },
          "hoverlabel": {
           "align": "left"
          },
          "hovermode": "closest",
          "mapbox": {
           "style": "light"
          },
          "paper_bgcolor": "white",
          "plot_bgcolor": "#E5ECF6",
          "polar": {
           "angularaxis": {
            "gridcolor": "white",
            "linecolor": "white",
            "ticks": ""
           },
           "bgcolor": "#E5ECF6",
           "radialaxis": {
            "gridcolor": "white",
            "linecolor": "white",
            "ticks": ""
           }
          },
          "scene": {
           "xaxis": {
            "backgroundcolor": "#E5ECF6",
            "gridcolor": "white",
            "gridwidth": 2,
            "linecolor": "white",
            "showbackground": true,
            "ticks": "",
            "zerolinecolor": "white"
           },
           "yaxis": {
            "backgroundcolor": "#E5ECF6",
            "gridcolor": "white",
            "gridwidth": 2,
            "linecolor": "white",
            "showbackground": true,
            "ticks": "",
            "zerolinecolor": "white"
           },
           "zaxis": {
            "backgroundcolor": "#E5ECF6",
            "gridcolor": "white",
            "gridwidth": 2,
            "linecolor": "white",
            "showbackground": true,
            "ticks": "",
            "zerolinecolor": "white"
           }
          },
          "shapedefaults": {
           "line": {
            "color": "#2a3f5f"
           }
          },
          "ternary": {
           "aaxis": {
            "gridcolor": "white",
            "linecolor": "white",
            "ticks": ""
           },
           "baxis": {
            "gridcolor": "white",
            "linecolor": "white",
            "ticks": ""
           },
           "bgcolor": "#E5ECF6",
           "caxis": {
            "gridcolor": "white",
            "linecolor": "white",
            "ticks": ""
           }
          },
          "title": {
           "x": 0.05
          },
          "xaxis": {
           "automargin": true,
           "gridcolor": "white",
           "linecolor": "white",
           "ticks": "",
           "title": {
            "standoff": 15
           },
           "zerolinecolor": "white",
           "zerolinewidth": 2
          },
          "yaxis": {
           "automargin": true,
           "gridcolor": "white",
           "linecolor": "white",
           "ticks": "",
           "title": {
            "standoff": 15
           },
           "zerolinecolor": "white",
           "zerolinewidth": 2
          }
         }
        },
        "title": {
         "text": "job count by state"
        },
        "width": 1000
       }
      }
     },
     "metadata": {},
     "output_type": "display_data"
    }
   ],
   "source": [
    "fig = px.choropleth(data_frame=job_count_df, locations='state', locationmode=\"USA-states\",\\\n",
    "                    color='job count', scope=\"usa\",labels={'job count':'total number of positions'},color_continuous_scale=\"bluered\", \\\n",
    "                    width=1000, height=400, title =\"job count by state\")\n",
    "fig.show()"
   ]
  },
  {
   "cell_type": "markdown",
   "metadata": {},
   "source": [
    "### most demanted job"
   ]
  },
  {
   "cell_type": "code",
   "execution_count": 25,
   "metadata": {},
   "outputs": [
    {
     "data": {
      "text/plain": [
       "data scientist               1240\n",
       "software engineer             337\n",
       "data engineer                 181\n",
       "data analyst                  125\n",
       "machine learning engineer     115\n",
       "research assistant             39\n",
       "statistical analyst            15\n",
       "finance analyst                15\n",
       "geologist                      11\n",
       "electrical engineer            10\n",
       "deep learning scientist        10\n",
       "digital marketing               9\n",
       "front end engineer              8\n",
       "web developer                   8\n",
       "Name: position_category, dtype: int64"
      ]
     },
     "execution_count": 25,
     "metadata": {},
     "output_type": "execute_result"
    }
   ],
   "source": [
    "top_job = df.position_category.value_counts().sort_values(ascending=False)[1:15]\n",
    "top_job"
   ]
  },
  {
   "cell_type": "code",
   "execution_count": 26,
   "metadata": {},
   "outputs": [],
   "source": [
    "from wordcloud import WordCloud, ImageColorGenerator\n",
    "from PIL import Image"
   ]
  },
  {
   "cell_type": "code",
   "execution_count": 27,
   "metadata": {},
   "outputs": [
    {
     "data": {
      "image/png": "[encoded data removed]",
      "text/plain": [
       "<Figure size 1080x720 with 1 Axes>"
      ]
     },
     "metadata": {
      "needs_background": "light"
     },
     "output_type": "display_data"
    }
   ],
   "source": [
    "cloud = WordCloud(background_color=(255,255,255),\n",
    "               max_font_size=100, contour_color=(0,0 ,0), max_words=15,width=1200,height=300)\n",
    "cloud.generate_from_frequencies(top_job.to_dict())\n",
    "\n",
    "plt.figure(figsize = (15,10))\n",
    "# plt.title(r'Word Cloud of top jobs',fontsize=40,pad=50,color=\"red\")\n",
    "plt.imshow(cloud, interpolation='bilinear')\n",
    "plt.axis('off')\n",
    "plt.show()"
   ]
  },
  {
   "cell_type": "markdown",
   "metadata": {},
   "source": [
    "### The most recruited companies"
   ]
  },
  {
   "cell_type": "code",
   "execution_count": 28,
   "metadata": {},
   "outputs": [
    {
     "data": {
      "image/png": "[encoded data removed]",
      "text/plain": [
       "<Figure size 1440x288 with 1 Axes>"
      ]
     },
     "metadata": {
      "needs_background": "light"
     },
     "output_type": "display_data"
    }
   ],
   "source": [
    "companies = df.company.value_counts(sort=True, ascending=False)[0:12]\n",
    "plt.figure(figsize=(20,4))\n",
    "plt.title('Overall Participation by Country',size=18)\n",
    "plt.xlabel('Companies',size=14)\n",
    "plt.ylabel('Open jobs',size=14 )\n",
    "sns.barplot(x=companies.index, y=companies.values)\n",
    "plt.show()"
   ]
  },
  {
   "cell_type": "markdown",
   "metadata": {},
   "source": [
    "#### Working with only data related position\n",
    "- Some of the fields in the data set contain data on non-related data-position such as: geologist, digital marketing, epidemiologist, and more.\n",
    "- In the following analysis, I will only row with jobs in the data science domain."
   ]
  },
  {
   "cell_type": "code",
   "execution_count": 29,
   "metadata": {},
   "outputs": [
    {
     "data": {
      "text/html": [
       "<div>\n",
       "<style scoped>\n",
       "    .dataframe tbody tr th:only-of-type {\n",
       "        vertical-align: middle;\n",
       "    }\n",
       "\n",
       "    .dataframe tbody tr th {\n",
       "        vertical-align: top;\n",
       "    }\n",
       "\n",
       "    .dataframe thead th {\n",
       "        text-align: right;\n",
       "    }\n",
       "</style>\n",
       "<table border=\"1\" class=\"dataframe\">\n",
       "  <thead>\n",
       "    <tr style=\"text-align: right;\">\n",
       "      <th></th>\n",
       "      <th>position</th>\n",
       "      <th>position_category</th>\n",
       "      <th>company</th>\n",
       "      <th>description</th>\n",
       "      <th>reviews</th>\n",
       "      <th>city</th>\n",
       "      <th>state</th>\n",
       "      <th>zip_code</th>\n",
       "      <th>tools</th>\n",
       "      <th>skills</th>\n",
       "      <th>degree</th>\n",
       "      <th>major</th>\n",
       "      <th>website</th>\n",
       "      <th>email</th>\n",
       "    </tr>\n",
       "  </thead>\n",
       "  <tbody>\n",
       "    <tr>\n",
       "      <th>2</th>\n",
       "      <td>data scientist</td>\n",
       "      <td>data scientist</td>\n",
       "      <td>xpert staffing</td>\n",
       "      <td>[growing, company, located, atlanta, ga, area,...</td>\n",
       "      <td>0.0</td>\n",
       "      <td>Atlanta</td>\n",
       "      <td>GA</td>\n",
       "      <td></td>\n",
       "      <td>python, sql, java, hadoop, tableau, oracle, pe...</td>\n",
       "      <td>machine learning, data analysis, modeling, res...</td>\n",
       "      <td>master</td>\n",
       "      <td>computer science, data science, economics, sci...</td>\n",
       "      <td>None</td>\n",
       "      <td>None</td>\n",
       "    </tr>\n",
       "    <tr>\n",
       "      <th>3</th>\n",
       "      <td>data analyst</td>\n",
       "      <td>data analyst</td>\n",
       "      <td>operation hope</td>\n",
       "      <td>[department, program, operationsposition, loca...</td>\n",
       "      <td>44.0</td>\n",
       "      <td>Atlanta</td>\n",
       "      <td>GA</td>\n",
       "      <td>30303</td>\n",
       "      <td>python, sql, tableau, sas, r</td>\n",
       "      <td>data visualization, modeling, optimization</td>\n",
       "      <td>bachelor</td>\n",
       "      <td></td>\n",
       "      <td>None</td>\n",
       "      <td>None</td>\n",
       "    </tr>\n",
       "    <tr>\n",
       "      <th>5</th>\n",
       "      <td>manager data engineering</td>\n",
       "      <td>data engineer</td>\n",
       "      <td>mckinsey &amp; company</td>\n",
       "      <td>[qualifications, bachelor, degree, computer, s...</td>\n",
       "      <td>385.0</td>\n",
       "      <td>Atlanta</td>\n",
       "      <td>GA</td>\n",
       "      <td>30318</td>\n",
       "      <td>sql, aws, hadoop</td>\n",
       "      <td>optimization</td>\n",
       "      <td>bachelor</td>\n",
       "      <td>computer science, quantitative, science, busin...</td>\n",
       "      <td>www.periscope-solutions.com</td>\n",
       "      <td>None</td>\n",
       "    </tr>\n",
       "    <tr>\n",
       "      <th>9</th>\n",
       "      <td>senior associate cognitive data scientist natu...</td>\n",
       "      <td>data scientist</td>\n",
       "      <td>kpmg</td>\n",
       "      <td>[known, great, place, work, build, career, kpm...</td>\n",
       "      <td>4494.0</td>\n",
       "      <td>Atlanta</td>\n",
       "      <td>GA</td>\n",
       "      <td>30338</td>\n",
       "      <td>excel, r</td>\n",
       "      <td>machine learning, deep learning, optimization,...</td>\n",
       "      <td></td>\n",
       "      <td>computer science, statistics, quantitative, ma...</td>\n",
       "      <td>None</td>\n",
       "      <td>None</td>\n",
       "    </tr>\n",
       "    <tr>\n",
       "      <th>12</th>\n",
       "      <td>senior associate data scientist</td>\n",
       "      <td>data scientist</td>\n",
       "      <td>kpmg</td>\n",
       "      <td>[innovate, collaborate, shine, lighthouse, kpm...</td>\n",
       "      <td>4494.0</td>\n",
       "      <td>Atlanta</td>\n",
       "      <td>GA</td>\n",
       "      <td>30338</td>\n",
       "      <td>excel, hadoop, spark, linux, hive</td>\n",
       "      <td>machine learning, data visualization, modeling...</td>\n",
       "      <td>master, phd</td>\n",
       "      <td>computer science, data science, statistics, ma...</td>\n",
       "      <td>None</td>\n",
       "      <td>None</td>\n",
       "    </tr>\n",
       "  </tbody>\n",
       "</table>\n",
       "</div>"
      ],
      "text/plain": [
       "                                             position position_category  \\\n",
       "2                                      data scientist    data scientist   \n",
       "3                                        data analyst      data analyst   \n",
       "5                            manager data engineering     data engineer   \n",
       "9   senior associate cognitive data scientist natu...    data scientist   \n",
       "12                    senior associate data scientist    data scientist   \n",
       "\n",
       "               company                                        description  \\\n",
       "2       xpert staffing  [growing, company, located, atlanta, ga, area,...   \n",
       "3       operation hope  [department, program, operationsposition, loca...   \n",
       "5   mckinsey & company  [qualifications, bachelor, degree, computer, s...   \n",
       "9                 kpmg  [known, great, place, work, build, career, kpm...   \n",
       "12                kpmg  [innovate, collaborate, shine, lighthouse, kpm...   \n",
       "\n",
       "    reviews     city state zip_code  \\\n",
       "2       0.0  Atlanta    GA            \n",
       "3      44.0  Atlanta    GA    30303   \n",
       "5     385.0  Atlanta    GA    30318   \n",
       "9    4494.0  Atlanta    GA    30338   \n",
       "12   4494.0  Atlanta    GA    30338   \n",
       "\n",
       "                                                tools  \\\n",
       "2   python, sql, java, hadoop, tableau, oracle, pe...   \n",
       "3                        python, sql, tableau, sas, r   \n",
       "5                                    sql, aws, hadoop   \n",
       "9                                            excel, r   \n",
       "12                  excel, hadoop, spark, linux, hive   \n",
       "\n",
       "                                               skills       degree  \\\n",
       "2   machine learning, data analysis, modeling, res...       master   \n",
       "3          data visualization, modeling, optimization     bachelor   \n",
       "5                                        optimization     bachelor   \n",
       "9   machine learning, deep learning, optimization,...                \n",
       "12  machine learning, data visualization, modeling...  master, phd   \n",
       "\n",
       "                                                major  \\\n",
       "2   computer science, data science, economics, sci...   \n",
       "3                                                       \n",
       "5   computer science, quantitative, science, busin...   \n",
       "9   computer science, statistics, quantitative, ma...   \n",
       "12  computer science, data science, statistics, ma...   \n",
       "\n",
       "                        website email  \n",
       "2                          None  None  \n",
       "3                          None  None  \n",
       "5   www.periscope-solutions.com  None  \n",
       "9                          None  None  \n",
       "12                         None  None  "
      ]
     },
     "execution_count": 29,
     "metadata": {},
     "output_type": "execute_result"
    }
   ],
   "source": [
    "data_df = df.loc[df.position_category.isin(['data scientist','data engineer','data analyst','machine learning engineer',\n",
    "                                            'statistical analyst','deep learning scientist'])]\n",
    "data_df.head()"
   ]
  },
  {
   "cell_type": "markdown",
   "metadata": {},
   "source": [
    "#### Juniors vs Seniors:  **postion** "
   ]
  },
  {
   "cell_type": "code",
   "execution_count": 30,
   "metadata": {},
   "outputs": [
    {
     "name": "stdout",
     "output_type": "stream",
     "text": [
      "498 positions experience level match has fund\n"
     ]
    },
    {
     "name": "stderr",
     "output_type": "stream",
     "text": [
      "C:\\Users\\PC\\AppData\\Local\\Temp/ipykernel_21120/4187498215.py:1: SettingWithCopyWarning:\n",
      "\n",
      "\n",
      "A value is trying to be set on a copy of a slice from a DataFrame.\n",
      "Try using .loc[row_indexer,col_indexer] = value instead\n",
      "\n",
      "See the caveats in the documentation: https://pandas.pydata.org/pandas-docs/stable/user_guide/indexing.html#returning-a-view-versus-a-copy\n",
      "\n"
     ]
    }
   ],
   "source": [
    "data_df[\"experience\"] = classifying(data_df[\"description\"],[\"junior\",'senior'], \"positions experience level\")"
   ]
  },
  {
   "cell_type": "code",
   "execution_count": 31,
   "metadata": {},
   "outputs": [],
   "source": [
    "junior_position = data_df.loc[data_df[\"experience\"]==\"junior\",\"position_category\"].value_counts(sort=True, ascending=False)[0:12]\n",
    "senior_position = data_df.loc[data_df[\"experience\"]==\"senior\",\"position_category\"].value_counts(sort=True, ascending=False)[0:12]"
   ]
  },
  {
   "cell_type": "code",
   "execution_count": 32,
   "metadata": {},
   "outputs": [
    {
     "data": {
      "image/png": "[encoded data removed]",
      "text/plain": [
       "<Figure size 1296x504 with 2 Axes>"
      ]
     },
     "metadata": {},
     "output_type": "display_data"
    }
   ],
   "source": [
    "plt.figure(figsize=(18,7))\n",
    "plt.subplot(1,2,1)\n",
    "colors = sns.color_palette('pastel')[0:5] #define Seaborn color palette to use\n",
    "plt.pie(x= junior_position.values, labels = junior_position.index, colors = colors, #create pie chart\n",
    "        autopct='%.0f%%',explode=len(junior_position.index)*[0.05],\n",
    "        textprops={'fontsize': 16,'color':\"blue\"}) \n",
    "plt.title(\"juniors positions\",size=20,color=\"red\")\n",
    "\n",
    "plt.subplot(1,2,2)\n",
    "plt.pie(x= senior_position.values, labels = senior_position.index, colors = colors, #create pie chart\n",
    "        autopct='%.0f%%',explode=len(senior_position.index)*[0.05],\n",
    "       textprops={'fontsize': 14,'color':\"blue\"}) \n",
    "plt.title(\"seniors positions\",size=20,color=\"red\")\n",
    "plt.show()"
   ]
  },
  {
   "cell_type": "markdown",
   "metadata": {},
   "source": [
    "#### Junior vs Senior:  **Top 5 tools**  "
   ]
  },
  {
   "cell_type": "code",
   "execution_count": 33,
   "metadata": {},
   "outputs": [],
   "source": [
    "from collections import Counter"
   ]
  },
  {
   "cell_type": "code",
   "execution_count": 34,
   "metadata": {},
   "outputs": [],
   "source": [
    "def count_tools(list_a):\n",
    "    q_list = []\n",
    "    for x in list_a:\n",
    "        q_list.extend(x.split(\",\"))\n",
    "    return(Counter(q_list))\n",
    "    \n",
    "junior_tools_list= count_tools(data_df.loc[data_df[\"experience\"]==\"junior\",\"tools\"])\n",
    "senior_tools_list= count_tools(data_df.loc[data_df[\"experience\"]==\"senior\",\"tools\"])\n"
   ]
  },
  {
   "cell_type": "code",
   "execution_count": 35,
   "metadata": {},
   "outputs": [],
   "source": [
    "junior_tools_value = []\n",
    "junior_tools_index = []\n",
    "senior_tools_value = []\n",
    "senior_tools_index = []\n",
    "junior_tools = junior_tools_list.most_common()\n",
    "senior_tools = senior_tools_list.most_common()\n",
    "for i in range(5):\n",
    "    junior_tools_value.append(junior_tools[i][1]) \n",
    "    junior_tools_index.append(junior_tools[i][0])\n",
    "    senior_tools_value.append(senior_tools[i][1])\n",
    "    senior_tools_index.append(senior_tools[i][0])"
   ]
  },
  {
   "cell_type": "code",
   "execution_count": 36,
   "metadata": {},
   "outputs": [
    {
     "data": {
      "image/png": "[encoded data removed]",
      "text/plain": [
       "<Figure size 1296x504 with 2 Axes>"
      ]
     },
     "metadata": {},
     "output_type": "display_data"
    }
   ],
   "source": [
    "plt.figure(figsize=(18,7))\n",
    "plt.subplot(1,2,1)\n",
    "colors = sns.color_palette('pastel')[0:5] #define Seaborn color palette to use\n",
    "plt.pie(x= junior_tools_value, labels = junior_tools_index, colors = colors, #create pie chart\n",
    "        autopct='%.0f%%',explode=5*[0.05],\n",
    "        textprops={'fontsize': 16,'color':\"blue\"}) \n",
    "plt.title(\"juniors skills\",size=20,color=\"red\")\n",
    "\n",
    "plt.subplot(1,2,2)\n",
    "plt.pie(x= senior_tools_value, labels = senior_tools_index, colors = colors, #create pie chart\n",
    "        autopct='%.0f%%',explode=(5)*[0.05],\n",
    "       textprops={'fontsize': 16,'color':\"blue\"}) \n",
    "plt.title(\"seniors skills\",size=20,color=\"red\")\n",
    "# plt.subplots_adjust(0.01)\n",
    "plt.show()"
   ]
  },
  {
   "cell_type": "markdown",
   "metadata": {},
   "source": [
    "### Conclusion\n",
    "* Python is the most demanded tool in your arsenal, following R language.\n",
    "* Junior and Senior data jobs have similar required tools.\n",
    "* Seniors are more likely to be data scientists than juniors.\n",
    "* California has the biggest number of open jobs.\n",
    "\n",
    " And most importantly, read the job descriptions carefully, and you'll be hired!"
   ]
  }
 ],
 "metadata": {
  "interpreter": {
   "hash": "b30dba9e6b327c49323427b5834a85ee77ca1b08e6e0e4d39a0ab79552f0e0c2"
  },
  "kernelspec": {
   "display_name": "Python 3.9.7 64-bit ('visualization-env': conda)",
   "language": "python",
   "name": "python3"
  },
  "language_info": {
   "codemirror_mode": {
    "name": "ipython",
    "version": 3
   },
   "file_extension": ".py",
   "mimetype": "text/x-python",
   "name": "python",
   "nbconvert_exporter": "python",
   "pygments_lexer": "ipython3",
   "version": "3.9.7"
  },
  "orig_nbformat": 4
 },
 "nbformat": 4,
 "nbformat_minor": 2
}
